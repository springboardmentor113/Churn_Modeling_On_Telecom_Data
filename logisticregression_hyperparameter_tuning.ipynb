{
 "cells": [
  {
   "cell_type": "code",
   "execution_count": 1,
   "id": "d632bc2f-e004-43a3-ab80-d63418d9044f",
   "metadata": {},
   "outputs": [
    {
     "name": "stdout",
     "output_type": "stream",
     "text": [
      "Best Logistic Regression Accuracy: 0.7902\n",
      "Best Logistic Regression Classification Report:\n",
      "              precision    recall  f1-score   support\n",
      "\n",
      "           0       0.82      0.90      0.85      3437\n",
      "           1       0.71      0.56      0.62      1563\n",
      "\n",
      "    accuracy                           0.79      5000\n",
      "   macro avg       0.76      0.73      0.74      5000\n",
      "weighted avg       0.78      0.79      0.78      5000\n",
      "\n"
     ]
    }
   ],
   "source": [
    "import pandas as pd\n",
    "from sklearn.model_selection import train_test_split, GridSearchCV\n",
    "from sklearn.linear_model import LogisticRegression\n",
    "from sklearn.metrics import accuracy_score, classification_report\n",
    "\n",
    "# Load the CSV dataset\n",
    "data = pd.read_csv(\"modified_dataset.csv\")\n",
    "\n",
    "# Prepare the data\n",
    "X = data.drop('target', axis=1)  # Features\n",
    "y = data['target']  # Target variable\n",
    "\n",
    "# Split the data into training and testing sets\n",
    "X_train, X_test, y_train, y_test = train_test_split(X, y, test_size=0.2, random_state=42)\n",
    "\n",
    "# Initialize the Logistic Regression model\n",
    "logreg_model = LogisticRegression(random_state=42, max_iter=1000)\n",
    "\n",
    "# Define the grid of hyperparameters to search\n",
    "param_grid = {\n",
    "    'C': [0.001, 0.01, 0.1, 1, 10, 100],  # Regularization parameter\n",
    "    'penalty': ['l1', 'l2'],  # Penalty norm\n",
    "    'solver': ['liblinear', 'saga']  # Algorithm to use in the optimization problem\n",
    "}\n",
    "\n",
    "# Initialize GridSearchCV\n",
    "grid_search = GridSearchCV(estimator=logreg_model, param_grid=param_grid, cv=5, scoring='accuracy', n_jobs=-1)\n",
    "\n",
    "# Perform grid search to find the best hyperparameters\n",
    "grid_search.fit(X_train, y_train)\n",
    "\n",
    "# Get the best hyperparameters\n",
    "best_params = grid_search.best_params_\n",
    "\n",
    "# Train the model with the best hyperparameters\n",
    "best_logreg_model = LogisticRegression(**best_params, random_state=42, max_iter=1000)\n",
    "best_logreg_model.fit(X_train, y_train)\n",
    "\n",
    "# Make predictions using the best model\n",
    "best_logreg_y_pred = best_logreg_model.predict(X_test)\n",
    "\n",
    "# Evaluate the best model\n",
    "best_logreg_accuracy = accuracy_score(y_test, best_logreg_y_pred)\n",
    "print(\"Best Logistic Regression Accuracy:\", best_logreg_accuracy)\n",
    "print(\"Best Logistic Regression Classification Report:\")\n",
    "print(classification_report(y_test, best_logreg_y_pred))\n"
   ]
  }
 ],
 "metadata": {
  "kernelspec": {
   "display_name": "Python 3 (ipykernel)",
   "language": "python",
   "name": "python3"
  },
  "language_info": {
   "codemirror_mode": {
    "name": "ipython",
    "version": 3
   },
   "file_extension": ".py",
   "mimetype": "text/x-python",
   "name": "python",
   "nbconvert_exporter": "python",
   "pygments_lexer": "ipython3",
   "version": "3.12.2"
  }
 },
 "nbformat": 4,
 "nbformat_minor": 5
}
