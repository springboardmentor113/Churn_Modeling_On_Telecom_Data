{
 "cells": [
  {
   "cell_type": "code",
   "execution_count": 1,
   "id": "df3d112f-aa41-4ff4-a660-48d94a977f33",
   "metadata": {},
   "outputs": [
    {
     "name": "stdout",
     "output_type": "stream",
     "text": [
      "Logistic Regression Accuracy: 0.789\n",
      "Logistic Regression Classification Report:\n",
      "              precision    recall  f1-score   support\n",
      "\n",
      "           0       0.82      0.90      0.85      3437\n",
      "           1       0.71      0.55      0.62      1563\n",
      "\n",
      "    accuracy                           0.79      5000\n",
      "   macro avg       0.76      0.72      0.74      5000\n",
      "weighted avg       0.78      0.79      0.78      5000\n",
      "\n"
     ]
    },
    {
     "name": "stderr",
     "output_type": "stream",
     "text": [
      "C:\\Users\\arkad\\AppData\\Local\\Programs\\Python\\Python312\\Lib\\site-packages\\sklearn\\linear_model\\_logistic.py:469: ConvergenceWarning: lbfgs failed to converge (status=1):\n",
      "STOP: TOTAL NO. of ITERATIONS REACHED LIMIT.\n",
      "\n",
      "Increase the number of iterations (max_iter) or scale the data as shown in:\n",
      "    https://scikit-learn.org/stable/modules/preprocessing.html\n",
      "Please also refer to the documentation for alternative solver options:\n",
      "    https://scikit-learn.org/stable/modules/linear_model.html#logistic-regression\n",
      "  n_iter_i = _check_optimize_result(\n"
     ]
    }
   ],
   "source": [
    "# Import necessary libraries\n",
    "import pandas as pd\n",
    "from sklearn.model_selection import train_test_split\n",
    "from sklearn.linear_model import LogisticRegression\n",
    "from sklearn.metrics import accuracy_score, classification_report\n",
    "\n",
    "#  Load the CSV dataset\n",
    "data = pd.read_csv(\"modified_dataset.csv\")\n",
    "\n",
    "#  Prepare the data\n",
    "X = data.drop('target', axis=1)  # Features\n",
    "y = data['target']  # Target variable\n",
    "\n",
    "#  Split the data into training and testing sets\n",
    "X_train, X_test, y_train, y_test = train_test_split(X, y, test_size=0.2, random_state=42)\n",
    "\n",
    "#  Initialize and train the Logistic Regression model\n",
    "logreg_model = LogisticRegression(max_iter=1000, random_state=42)\n",
    "logreg_model.fit(X_train, y_train)\n",
    "\n",
    "#  Make predictions using the Logistic Regression model\n",
    "logreg_y_pred = logreg_model.predict(X_test)\n",
    "\n",
    "#  Evaluate the Logistic Regression model\n",
    "logreg_accuracy = accuracy_score(y_test, logreg_y_pred)\n",
    "print(\"Logistic Regression Accuracy:\", logreg_accuracy)\n",
    "print(\"Logistic Regression Classification Report:\")\n",
    "print(classification_report(y_test, logreg_y_pred))"
   ]
  }
 ],
 "metadata": {
  "kernelspec": {
   "display_name": "Python 3 (ipykernel)",
   "language": "python",
   "name": "python3"
  },
  "language_info": {
   "codemirror_mode": {
    "name": "ipython",
    "version": 3
   },
   "file_extension": ".py",
   "mimetype": "text/x-python",
   "name": "python",
   "nbconvert_exporter": "python",
   "pygments_lexer": "ipython3",
   "version": "3.12.2"
  }
 },
 "nbformat": 4,
 "nbformat_minor": 5
}
