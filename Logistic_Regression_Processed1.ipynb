{
 "cells": [
  {
   "cell_type": "code",
   "execution_count": 118,
   "id": "d6f5a5fa-b232-4416-84c1-34113e199792",
   "metadata": {},
   "outputs": [],
   "source": [
    "import pandas as pd\n",
    "import numpy as np\n",
    "from sklearn.feature_selection import VarianceThreshold\n",
    "from sklearn.model_selection import train_test_split\n",
    "from sklearn.linear_model import LogisticRegression\n",
    "from sklearn.metrics import accuracy_score, classification_report\n",
    "from sklearn.preprocessing import StandardScaler\n",
    "from statsmodels.stats.outliers_influence import variance_inflation_factor\n",
    "from sklearn.model_selection import GridSearchCV"
   ]
  },
  {
   "cell_type": "code",
   "execution_count": 98,
   "id": "9b0ec8ca-c10c-4e08-bf02-7ff9984ab849",
   "metadata": {},
   "outputs": [],
   "source": [
    "df = pd.read_csv(r\"C:\\Users\\SUMIT MITRA\\Churn_ Data.csv\")"
   ]
  },
  {
   "cell_type": "code",
   "execution_count": 99,
   "id": "fc9a3dea-a0ed-4cae-a24f-d12f5c42f963",
   "metadata": {},
   "outputs": [],
   "source": [
    "target_column = 'target'  \n",
    "y = df[target_column]\n",
    "X = df.drop(columns=[target_column])"
   ]
  },
  {
   "cell_type": "code",
   "execution_count": 100,
   "id": "cae0e3ea-06bb-4177-9e24-258996aa4b14",
   "metadata": {},
   "outputs": [],
   "source": [
    "df = pd.concat([X, y], axis=1)\n",
    "df = df.drop_duplicates()\n",
    "# Separate again\n",
    "X = df.drop(columns=[target_column])\n",
    "y = df[target_column]"
   ]
  },
  {
   "cell_type": "code",
   "execution_count": 101,
   "id": "dae4f5be-7078-400d-8753-875cbee195b1",
   "metadata": {},
   "outputs": [],
   "source": [
    "for col in X.columns:\n",
    "    if X[col].nunique() == 1:\n",
    "        X = X.drop(col, axis=1)"
   ]
  },
  {
   "cell_type": "code",
   "execution_count": 102,
   "id": "57b82175-3c27-4d2e-8cc2-07155e07020b",
   "metadata": {},
   "outputs": [],
   "source": [
    "selector = VarianceThreshold(threshold=0.8)\n",
    "X = pd.DataFrame(selector.fit_transform(X), columns=X.columns[selector.get_support(indices=True)])"
   ]
  },
  {
   "cell_type": "code",
   "execution_count": 103,
   "id": "446c81a9-53aa-47e9-9e6c-d2ed02985b47",
   "metadata": {},
   "outputs": [],
   "source": [
    "Q1 = X.quantile(0.25)\n",
    "Q3 = X.quantile(0.75)\n",
    "IQR = Q3 - Q1\n",
    "X = X[~((X < (Q1 - 1.5 * IQR)) | (X > (Q3 + 1.5 * IQR))).any(axis=1)]\n",
    "y = y.loc[X.index]  "
   ]
  },
  {
   "cell_type": "code",
   "execution_count": 104,
   "id": "18982b98-d223-4d03-bdad-b8cdcadbc262",
   "metadata": {},
   "outputs": [],
   "source": [
    "corr_matrix = X.corr().abs()\n",
    "upper = corr_matrix.where(np.triu(np.ones(corr_matrix.shape), k=1).astype(bool))\n",
    "to_drop = [column for column in upper.columns if any(upper[column] >= 0.9)]\n",
    "X = X.drop(columns=to_drop)"
   ]
  },
  {
   "cell_type": "code",
   "execution_count": 117,
   "id": "e2cb1a83-9d4a-44bf-af80-3a4a61b33547",
   "metadata": {},
   "outputs": [
    {
     "name": "stderr",
     "output_type": "stream",
     "text": [
      "C:\\Users\\SUMIT MITRA\\anaconda3\\Lib\\site-packages\\statsmodels\\regression\\linear_model.py:1783: RuntimeWarning: invalid value encountered in scalar divide\n",
      "  return 1 - self.ssr/self.uncentered_tss\n"
     ]
    }
   ],
   "source": [
    "def calculate_vif(X):\n",
    "    vif = pd.DataFrame()\n",
    "    vif[\"Variable\"] = X.columns\n",
    "    vif[\"VIF\"] = [variance_inflation_factor(X.values, i) for i in range(X.shape[1])]\n",
    "    return vif.dropna()  # Drop rows with NaN values\n",
    "vif_df = calculate_vif(X)\n",
    "while vif_df['VIF'].max() > 5:\n",
    "    max_vif_col = vif_df.loc[vif_df['VIF'].idxmax(), 'Variable']\n",
    "    X = X.drop(columns=[max_vif_col])\n",
    "    vif_df = calculate_vif(X)"
   ]
  },
  {
   "cell_type": "code",
   "execution_count": 106,
   "id": "a49492e3-865c-44cb-a5d5-f8316125ff71",
   "metadata": {},
   "outputs": [],
   "source": [
    "df_processed = pd.concat([X.reset_index(drop=True), y.reset_index(drop=True)], axis=1)\n",
    "df_processed.to_csv('processed_data.csv', index=False)"
   ]
  },
  {
   "cell_type": "code",
   "execution_count": 107,
   "id": "25945331-ce43-4778-bbd2-4da892e9219c",
   "metadata": {},
   "outputs": [
    {
     "name": "stdout",
     "output_type": "stream",
     "text": [
      "Accuracy: 0.8125\n"
     ]
    }
   ],
   "source": [
    "# Splitting the preprocessed data into training and testing sets\n",
    "X_train, X_test, y_train, y_test = train_test_split(X, y, test_size=0.2, random_state=42)\n",
    "logistic_model = LogisticRegression(solver='liblinear', max_iter=1000)\n",
    "# Training the logistic regression model\n",
    "logistic_model.fit(X_train, y_train)\n",
    "# Predicting on the test set\n",
    "y_pred = logistic_model.predict(X_test)\n",
    "# Evaluating the model\n",
    "accuracy = accuracy_score(y_test, y_pred)\n",
    "print(\"Accuracy:\", accuracy)"
   ]
  },
  {
   "cell_type": "code",
   "execution_count": 119,
   "id": "f80e4c45-4697-43d3-a7a1-d15e9a21fb8b",
   "metadata": {},
   "outputs": [
    {
     "name": "stdout",
     "output_type": "stream",
     "text": [
      "Accuracy: 0.8152985074626866\n"
     ]
    }
   ],
   "source": [
    "# Define the parameter grid for hyperparameter tuning\n",
    "param_grid = {\n",
    "    'feature_selection__n_features_to_select': [None, 5, 10], \n",
    "    'logistic_regression__C': [0.1, 1, 10], \n",
    "    'logistic_regression__solver': ['liblinear', 'lbfgs']  \n",
    "}\n",
    "# Evaluate the model on the test set\n",
    "best_model = grid_search.best_estimator_\n",
    "y_pred = best_model.predict(X_test)\n",
    "accuracy = accuracy_score(y_test, y_pred)\n",
    "print(\"Accuracy:\", accuracy)"
   ]
  },
  {
   "cell_type": "code",
   "execution_count": null,
   "id": "b7e0563b-124c-4cdc-9ad1-846438ff2e06",
   "metadata": {},
   "outputs": [],
   "source": []
  }
 ],
 "metadata": {
  "kernelspec": {
   "display_name": "Python 3 (ipykernel)",
   "language": "python",
   "name": "python3"
  },
  "language_info": {
   "codemirror_mode": {
    "name": "ipython",
    "version": 3
   },
   "file_extension": ".py",
   "mimetype": "text/x-python",
   "name": "python",
   "nbconvert_exporter": "python",
   "pygments_lexer": "ipython3",
   "version": "3.11.7"
  }
 },
 "nbformat": 4,
 "nbformat_minor": 5
}
